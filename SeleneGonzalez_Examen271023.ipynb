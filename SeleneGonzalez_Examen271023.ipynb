{
  "nbformat": 4,
  "nbformat_minor": 0,
  "metadata": {
    "colab": {
      "provenance": [],
      "authorship_tag": "ABX9TyNsKXBWuScXRnt5szA/Nkyq",
      "include_colab_link": true
    },
    "kernelspec": {
      "name": "python3",
      "display_name": "Python 3"
    },
    "language_info": {
      "name": "python"
    }
  },
  "cells": [
    {
      "cell_type": "markdown",
      "metadata": {
        "id": "view-in-github",
        "colab_type": "text"
      },
      "source": [
        "<a href=\"https://colab.research.google.com/github/gonzalezseledev/apuntesPython/blob/main/SeleneGonzalez_Examen271023.ipynb\" target=\"_parent\"><img src=\"https://colab.research.google.com/assets/colab-badge.svg\" alt=\"Open In Colab\"/></a>"
      ]
    },
    {
      "cell_type": "code",
      "execution_count": null,
      "metadata": {
        "colab": {
          "base_uri": "https://localhost:8080/"
        },
        "id": "zQtuoslJQFwN",
        "outputId": "8060378a-9803-42b1-b4d9-e0198ce7c56f"
      },
      "outputs": [
        {
          "output_type": "stream",
          "name": "stdout",
          "text": [
            "8\n",
            "-2\n",
            "15\n",
            "0.6\n",
            "0\n",
            "243\n",
            "1.7320508075688772\n",
            "3\n"
          ]
        }
      ],
      "source": [
        "# Ejercicio 1\n",
        "\n",
        "num1= 3\n",
        "num2= 5\n",
        "\n",
        "print(num1 + num2)  # suma\n",
        "print(num1 - num2)  # resta\n",
        "print(num1 * num2)  # multiplicación\n",
        "print(num1 / num2)  # división\n",
        "print(num1 // num2) # división entera\n",
        "print(num1 ** num2) # potencia\n",
        "print(num1 ** 0.5)  # raíz cuadrada\n",
        "print(num1 % num2)  # resto"
      ]
    },
    {
      "cell_type": "code",
      "execution_count": null,
      "metadata": {
        "colab": {
          "base_uri": "https://localhost:8080/"
        },
        "id": "tbyEODypRMEJ",
        "outputId": "e3513f85-1b4d-41d6-f51e-7ef8f72bb32e"
      },
      "outputs": [
        {
          "output_type": "stream",
          "name": "stdout",
          "text": [
            "Manzana Pera Melocotón\n"
          ]
        }
      ],
      "source": [
        "# Ejercicio 2 Parte 1 # Mostrar nombres de frutas en horizontal\n",
        "\n",
        "fruit1= 'Manzana'\n",
        "fruit2= 'Pera'\n",
        "fruit3= 'Melocotón'\n",
        "\n",
        "print(fruit1,fruit2,fruit3)"
      ]
    },
    {
      "cell_type": "code",
      "execution_count": 2,
      "metadata": {
        "colab": {
          "base_uri": "https://localhost:8080/"
        },
        "outputId": "fa96b64d-a69a-43a9-b8af-e16ac17bf0ce",
        "id": "AQJWe8bCYpj3"
      },
      "outputs": [
        {
          "output_type": "stream",
          "name": "stdout",
          "text": [
            "Manzana\n",
            "Pera\n",
            "Melocotón\n"
          ]
        }
      ],
      "source": [
        "# Ejercicio 2 Parte 2 # Mostrar nombres de frutas en vertical\n",
        "\n",
        "fruit1= 'Manzana'\n",
        "fruit2= 'Pera'\n",
        "fruit3= 'Melocotón'\n",
        "\n",
        "print(fruit1, fruit2, fruit3, sep='\\n')"
      ]
    },
    {
      "cell_type": "code",
      "execution_count": null,
      "metadata": {
        "colab": {
          "base_uri": "https://localhost:8080/"
        },
        "id": "ndC_fOWTRMNa",
        "outputId": "a7cb3d85-a18e-4ec1-cbf0-71d5048998e1"
      },
      "outputs": [
        {
          "output_type": "stream",
          "name": "stdout",
          "text": [
            "<class 'float'>\n"
          ]
        }
      ],
      "source": [
        "# Ejercicio 3\n",
        "\n",
        "print(type(7.253))"
      ]
    },
    {
      "cell_type": "code",
      "execution_count": null,
      "metadata": {
        "colab": {
          "base_uri": "https://localhost:8080/"
        },
        "id": "C4os7e8CRMUD",
        "outputId": "7ba3725d-99aa-4a19-da81-c27ef19e0b92"
      },
      "outputs": [
        {
          "output_type": "stream",
          "name": "stdout",
          "text": [
            "ME GUSTA MUCHO MADRID\n"
          ]
        }
      ],
      "source": [
        "# Ejercicio 4\n",
        "\n",
        "frase= 'Me gusta mucho Madrid'\n",
        "\n",
        "print(frase.upper())"
      ]
    },
    {
      "cell_type": "code",
      "execution_count": null,
      "metadata": {
        "colab": {
          "base_uri": "https://localhost:8080/"
        },
        "id": "Rw15MhXLRMZ9",
        "outputId": "92e1c45e-77e1-4a17-9de7-994ad98f8c6b"
      },
      "outputs": [
        {
          "output_type": "stream",
          "name": "stdout",
          "text": [
            "21\n"
          ]
        }
      ],
      "source": [
        "# Ejercicio 5\n",
        "\n",
        "print(len(frase))"
      ]
    },
    {
      "cell_type": "code",
      "execution_count": null,
      "metadata": {
        "colab": {
          "base_uri": "https://localhost:8080/"
        },
        "id": "vyicMEaDRMfK",
        "outputId": "10aa6ce6-d8b6-48f1-c40d-10038fa9aa50"
      },
      "outputs": [
        {
          "output_type": "execute_result",
          "data": {
            "text/plain": [
              "[7]"
            ]
          },
          "metadata": {},
          "execution_count": 18
        }
      ],
      "source": [
        "# Ejercicio 6\n",
        "\n",
        "numeros=[1, 2, 3, 4, 5, 6, 7]\n",
        "\n",
        "numeros[6:]\n",
        "numeros[-1:]"
      ]
    },
    {
      "cell_type": "code",
      "execution_count": null,
      "metadata": {
        "colab": {
          "base_uri": "https://localhost:8080/"
        },
        "id": "rtyaae5KRMki",
        "outputId": "6d623980-daf3-418c-fef1-dfd2c121dfba"
      },
      "outputs": [
        {
          "output_type": "execute_result",
          "data": {
            "text/plain": [
              "[3, 4, 5]"
            ]
          },
          "metadata": {},
          "execution_count": 19
        }
      ],
      "source": [
        "# Ejercicio 7\n",
        "\n",
        "numeros[2:5]"
      ]
    },
    {
      "cell_type": "code",
      "execution_count": null,
      "metadata": {
        "colab": {
          "base_uri": "https://localhost:8080/"
        },
        "id": "-6pX9hc5RMp6",
        "outputId": "bdf5e2d7-02ee-4ba6-fdde-e6f404f368a6"
      },
      "outputs": [
        {
          "output_type": "execute_result",
          "data": {
            "text/plain": [
              "[4, 5, 6, 7]"
            ]
          },
          "metadata": {},
          "execution_count": 21
        }
      ],
      "source": [
        "# Ejercicio 8\n",
        "\n",
        "numeros[3:]"
      ]
    },
    {
      "cell_type": "code",
      "execution_count": null,
      "metadata": {
        "colab": {
          "base_uri": "https://localhost:8080/"
        },
        "id": "O2JwQDWDRMvh",
        "outputId": "7fd10bcf-2483-470f-b857-467c2459dcb1"
      },
      "outputs": [
        {
          "output_type": "execute_result",
          "data": {
            "text/plain": [
              "[3, 6]"
            ]
          },
          "metadata": {},
          "execution_count": 25
        }
      ],
      "source": [
        "# Ejercicio 9\n",
        "\n",
        "numeros[2:6:3]"
      ]
    },
    {
      "cell_type": "code",
      "execution_count": null,
      "metadata": {
        "colab": {
          "base_uri": "https://localhost:8080/"
        },
        "id": "HW8ynGZ3RM0y",
        "outputId": "43d26111-4a87-4ee1-dd82-710dfb6ddda4"
      },
      "outputs": [
        {
          "output_type": "execute_result",
          "data": {
            "text/plain": [
              "[1, 2, 3, 4, 5, 6, 7]"
            ]
          },
          "metadata": {},
          "execution_count": 26
        }
      ],
      "source": [
        "# Ejercicio 10\n",
        "\n",
        "numeros[::]"
      ]
    },
    {
      "cell_type": "code",
      "execution_count": null,
      "metadata": {
        "colab": {
          "base_uri": "https://localhost:8080/"
        },
        "id": "y-cUty8RRM6Z",
        "outputId": "9c46574a-e870-4f50-aa7d-fa6b2f4b7a6b"
      },
      "outputs": [
        {
          "output_type": "execute_result",
          "data": {
            "text/plain": [
              "[1, 2, 3]"
            ]
          },
          "metadata": {},
          "execution_count": 28
        }
      ],
      "source": [
        "# Ejercicio 11\n",
        "\n",
        "sublistas= [[1, 2, 3], [4, 5, 6], [7, 8, 9]]\n",
        "\n",
        "sublistas[0]"
      ]
    },
    {
      "cell_type": "code",
      "execution_count": null,
      "metadata": {
        "colab": {
          "base_uri": "https://localhost:8080/"
        },
        "id": "a3Fzra0eRM_6",
        "outputId": "20fd212c-7109-4c6b-e564-75616d7cf240"
      },
      "outputs": [
        {
          "output_type": "execute_result",
          "data": {
            "text/plain": [
              "6"
            ]
          },
          "metadata": {},
          "execution_count": 29
        }
      ],
      "source": [
        "# Ejercicio 12\n",
        "\n",
        "sublistas[1][2]"
      ]
    },
    {
      "cell_type": "code",
      "execution_count": null,
      "metadata": {
        "colab": {
          "base_uri": "https://localhost:8080/"
        },
        "id": "UikqQXtTRNFP",
        "outputId": "b7065796-5094-44e1-a8ff-237c98bee1e4"
      },
      "outputs": [
        {
          "output_type": "execute_result",
          "data": {
            "text/plain": [
              "[4, 5, 6]"
            ]
          },
          "metadata": {},
          "execution_count": 30
        }
      ],
      "source": [
        "# Ejercicio 13\n",
        "\n",
        "sublistas[1]"
      ]
    },
    {
      "cell_type": "code",
      "execution_count": null,
      "metadata": {
        "colab": {
          "base_uri": "https://localhost:8080/"
        },
        "id": "ZJtRecw_RNKn",
        "outputId": "1b25ddf0-de08-4f76-8241-cfc7bbb2c735"
      },
      "outputs": [
        {
          "output_type": "execute_result",
          "data": {
            "text/plain": [
              "[[1, 2, 3], [4, 5, 6]]"
            ]
          },
          "metadata": {},
          "execution_count": 35
        }
      ],
      "source": [
        "# Ejercicio 14\n",
        "\n",
        "sublistas[:2]"
      ]
    },
    {
      "cell_type": "code",
      "execution_count": null,
      "metadata": {
        "colab": {
          "base_uri": "https://localhost:8080/"
        },
        "id": "BXxLiYWgRNSh",
        "outputId": "4ef873c9-685d-4838-d30a-f47eaa2cc40b"
      },
      "outputs": [
        {
          "output_type": "execute_result",
          "data": {
            "text/plain": [
              "[8, 9]"
            ]
          },
          "metadata": {},
          "execution_count": 37
        }
      ],
      "source": [
        "# Ejercicio 15\n",
        "\n",
        "sublistas[2][-2:]"
      ]
    },
    {
      "cell_type": "code",
      "execution_count": null,
      "metadata": {
        "colab": {
          "base_uri": "https://localhost:8080/"
        },
        "id": "7LUS3B6tRNYA",
        "outputId": "9e5379af-4351-4e4f-8b9e-4bfaf55d59e0"
      },
      "outputs": [
        {
          "output_type": "execute_result",
          "data": {
            "text/plain": [
              "6"
            ]
          },
          "metadata": {},
          "execution_count": 38
        }
      ],
      "source": [
        "# Ejercicio 16\n",
        "\n",
        "sublistas[1][2]"
      ]
    },
    {
      "cell_type": "code",
      "execution_count": null,
      "metadata": {
        "colab": {
          "base_uri": "https://localhost:8080/"
        },
        "id": "wD_hfoChRNea",
        "outputId": "cc14124e-4e41-4ab7-f5ed-f911f8025424"
      },
      "outputs": [
        {
          "output_type": "execute_result",
          "data": {
            "text/plain": [
              "5"
            ]
          },
          "metadata": {},
          "execution_count": 39
        }
      ],
      "source": [
        "# Ejercicio 17\n",
        "\n",
        "sublistas[1][1]"
      ]
    },
    {
      "cell_type": "code",
      "execution_count": null,
      "metadata": {
        "colab": {
          "base_uri": "https://localhost:8080/"
        },
        "id": "FaAUB17WRNke",
        "outputId": "e814d969-0dba-4de5-9e2f-a2fee789ea05"
      },
      "outputs": [
        {
          "output_type": "stream",
          "name": "stdout",
          "text": [
            "Ingrese su nombre: Pepe\n",
            "Hola Pepe\n"
          ]
        }
      ],
      "source": [
        "# Ejercicio 18\n",
        "\n",
        "nombre= input('Ingrese su nombre: ')\n",
        "\n",
        "print('Hola', nombre)"
      ]
    },
    {
      "cell_type": "code",
      "execution_count": null,
      "metadata": {
        "colab": {
          "base_uri": "https://localhost:8080/"
        },
        "id": "CmqPa6D-RNqn",
        "outputId": "b209b1d7-d6a5-40b0-ba30-6661f8c53659"
      },
      "outputs": [
        {
          "output_type": "stream",
          "name": "stdout",
          "text": [
            "Ingrese su nombre: Rosa\n",
            "Ingrese su apellido: López\n",
            "Ingrese su edad: 39\n",
            "Me llamo Rosa López y tengo 39 años\n"
          ]
        }
      ],
      "source": [
        "# Ejercicio 19\n",
        "\n",
        "nombre= input('Ingrese su nombre: ')\n",
        "apellido= input('Ingrese su apellido: ')\n",
        "edad= input('Ingrese su edad: ')\n",
        "\n",
        "print('Me llamo', nombre, apellido, 'y tengo', edad, 'años')"
      ]
    },
    {
      "cell_type": "code",
      "execution_count": null,
      "metadata": {
        "colab": {
          "base_uri": "https://localhost:8080/"
        },
        "id": "rZLS4H67RZ-5",
        "outputId": "6f4366ac-ee54-4f95-f0a4-abb2d79f8f5e"
      },
      "outputs": [
        {
          "output_type": "stream",
          "name": "stdout",
          "text": [
            "Ingrese un número: 5\n",
            "Ingrese otro número: 5\n",
            "1.0\n"
          ]
        }
      ],
      "source": [
        "# Ejercicio 20\n",
        "\n",
        "num1= input('Ingrese un número: ')\n",
        "num2= input('Ingrese otro número: ')\n",
        "\n",
        "resultado= float(num1) + float(num2) # suma\n",
        "resultado= float(num1) - float(num2) # resta\n",
        "resultado= float(num1) * float(num2) # multiplicación\n",
        "resultado= float(num1) / float(num2) # división\n",
        "\n",
        "print(resultado)"
      ]
    }
  ]
}